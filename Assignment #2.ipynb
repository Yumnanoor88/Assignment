{
 "cells": [
  {
   "cell_type": "code",
   "execution_count": 3,
   "metadata": {},
   "outputs": [
    {
     "name": "stdout",
     "output_type": "stream",
     "text": [
      "enter your nameyumna\n",
      "yumna\n",
      "enter your marks in urdu70\n",
      "enter your marks in maths80\n",
      "enter your marks in physics90\n",
      "enter your marks in chemistry78\n",
      "enter your marks in islamiat68\n",
      "A\n"
     ]
    }
   ],
   "source": [
    "# marksheet\n",
    "student_name=input(\"enter your name\")\n",
    "print(student_name)\n",
    "urdu=int(input(\"enter your marks in urdu\"))\n",
    "maths=int(input(\"enter your marks in maths\"))\n",
    "physics=int(input(\"enter your marks in physics\"))\n",
    "chem=int(input(\"enter your marks in chemistry\"))\n",
    "isl=int(input(\"enter your marks in islamiat\"))\n",
    "total=urdu+maths+physics+chem+isl\n",
    "per=(total/500)*100\n",
    "if per >=100:\n",
    "    print(\"invalid\")\n",
    "elif per>=80 and per<100:\n",
    "    print(\"A+\")\n",
    "elif per>=70 and per<80:\n",
    "    print(\"A\")\n",
    "elif per>=60 and per<70:\n",
    "    print(\"B\")\n",
    "elif per>=50 and per<60:\n",
    "    print(\"C\")\n",
    "elif per<50 :\n",
    "    print(\"Fail\")\n",
    "else:\n",
    "    print(\"inappropriate percentage\")"
   ]
  },
  {
   "cell_type": "code",
   "execution_count": 6,
   "metadata": {},
   "outputs": [
    {
     "name": "stdout",
     "output_type": "stream",
     "text": [
      "enter any number70\n",
      "number is even\n"
     ]
    }
   ],
   "source": [
    "# even and odd\n",
    "num=int(input(\"enter any number\"))\n",
    "\n",
    "if (num%2)==0:\n",
    "    print(\"number is even\")\n",
    "else:\n",
    "    print(\"number is odd\")\n"
   ]
  },
  {
   "cell_type": "code",
   "execution_count": 12,
   "metadata": {},
   "outputs": [
    {
     "name": "stdout",
     "output_type": "stream",
     "text": [
      "5\n"
     ]
    }
   ],
   "source": [
    "#length of list\n",
    "list1=[1,3,4,5,6]\n",
    "print(len(list1))"
   ]
  },
  {
   "cell_type": "code",
   "execution_count": 19,
   "metadata": {},
   "outputs": [
    {
     "data": {
      "text/plain": [
       "26"
      ]
     },
     "execution_count": 19,
     "metadata": {},
     "output_type": "execute_result"
    }
   ],
   "source": [
    "#sum of all integer in the list\n",
    "list2=[5,6,7,8,'a']\n",
    "sum(filter(lambda i: isinstance(i,int),list2 ))"
   ]
  },
  {
   "cell_type": "code",
   "execution_count": 20,
   "metadata": {},
   "outputs": [
    {
     "name": "stdout",
     "output_type": "stream",
     "text": [
      "78\n"
     ]
    }
   ],
   "source": [
    "#largest number from numeric list\n",
    "l1=[4,65,78]\n",
    "print(max(l1))"
   ]
  },
  {
   "cell_type": "code",
   "execution_count": 25,
   "metadata": {},
   "outputs": [
    {
     "name": "stdout",
     "output_type": "stream",
     "text": [
      "3\n",
      "1\n",
      "1\n"
     ]
    }
   ],
   "source": [
    "#print all the elements less  than 5\n",
    "l2=[3,5,6,9,1,1,21,9,8]\n",
    "for i in l2:\n",
    "    if i<5:\n",
    "        print(i)\n",
    " "
   ]
  },
  {
   "cell_type": "code",
   "execution_count": null,
   "metadata": {},
   "outputs": [],
   "source": []
  }
 ],
 "metadata": {
  "kernelspec": {
   "display_name": "Python 3",
   "language": "python",
   "name": "python3"
  },
  "language_info": {
   "codemirror_mode": {
    "name": "ipython",
    "version": 3
   },
   "file_extension": ".py",
   "mimetype": "text/x-python",
   "name": "python",
   "nbconvert_exporter": "python",
   "pygments_lexer": "ipython3",
   "version": "3.7.4"
  }
 },
 "nbformat": 4,
 "nbformat_minor": 2
}
