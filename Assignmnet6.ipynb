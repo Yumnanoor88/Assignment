{
 "cells": [
  {
   "cell_type": "markdown",
   "metadata": {},
   "source": [
    "# Object-oriented programming (OOP) \n",
    "refers to a type of computer programming (software design) in which programmers define the data type of a data structure, and also the types of operations (functions) that can be applied to the data structure\n",
    "\n"
   ]
  },
  {
   "cell_type": "markdown",
   "metadata": {},
   "source": [
    "# benefits\n",
    "Reuse. (But see ReuseHasFailed.)\n",
    "ConfigurableModularity at Runtime (improved over most procedural languages, which offer ConfigurableModularity only at code-time)\n",
    "GateKeeper / CapabilitySecurityModel.\n",
    "PolyMorphism increases expressiveness.\n",
    "Better models the real world (or at least better matches a useful model of the real world)\n",
    "Better models human thought processes. Hotly contended because heavily tied to psychology theories and personal differences.\n",
    "There is a fallacy involved in this assertion. Humans may abstract and model world as objects (soft reflective abstraction), but OOP constructs world via objects (hard projective abstraction). Those are opposite behaviors, but the surface similarities may lead one to believe that OOP better models human thought. See also: ObjectVsModel, OopNotForDomainModeling.\n",
    "Basically, humans easily hold multiple views of things - recognizing multiple patterns - whereas OOP often forces us to pick one view and entrench it in our code.\n",
    "I'd be hesitant to make blanket statements about human WetWare outside of my own. People are different. Some are more comfortable with EverythingIsa.\n",
    "Looking at \"comfort\" level is a terrible way to measure whether something is related to \"human thought processes\" because it depends heavily upon other factors, such as familiarity. What the body of hard psychological evidence tells us is that all people (barring genetic defect, brain damage, or psychoactive drugs) perform the same cognitive functions, learn and think and recognize and pattern match by the same mechanisms. Humans are not that different"
   ]
  },
  {
   "cell_type": "markdown",
   "metadata": {},
   "source": [
    "# difference b/w function and method\n",
    "A function is a piece of code that is called by name. It can be passed data to operate on (i.e. the parameters) and can optionally return data (the return value). All data that is passed to a function is explicitly passed. A method is a piece of code that is called by a name that is associated with an object.\n"
   ]
  },
  {
   "cell_type": "markdown",
   "metadata": {},
   "source": [
    "# definition\n",
    "CLASS:\n",
    "a class is a blueprint for creating objects (a particular data structure), providing initial values for state (member variables or attributes), and implementations of behavior (member functions or methods). The user-defined objects are created using the class keyword.\n",
    "OBJECT:\n",
    "objects are the things you think about first in designing a program and they are also the units of code that are eventually derived from the process. ... Each object is an instance of a particular class or subclass with the class's own methods or procedures and data variables.\n",
    "ATTRIBUTE:\n",
    "In Object-oriented programming(OOP), classes and objects have attributes. Attributes are data stored inside a class or instance and represent the state or quality of the class or instance. In short, attributes store information about the instance\n",
    "BEHAVIOUR:\n",
    "The properties of the object.\n"
   ]
  },
  {
   "cell_type": "code",
   "execution_count": 1,
   "metadata": {},
   "outputs": [
    {
     "ename": "TypeError",
     "evalue": "Car() takes no arguments",
     "output_type": "error",
     "traceback": [
      "\u001b[1;31m---------------------------------------------------------------------------\u001b[0m",
      "\u001b[1;31mTypeError\u001b[0m                                 Traceback (most recent call last)",
      "\u001b[1;32m<ipython-input-1-85dbbb51de86>\u001b[0m in \u001b[0;36m<module>\u001b[1;34m\u001b[0m\n\u001b[0;32m     11\u001b[0m         \u001b[0mcar\u001b[0m\u001b[1;33m.\u001b[0m\u001b[0mcompName\u001b[0m \u001b[1;33m=\u001b[0m \u001b[0mnewName\u001b[0m\u001b[1;33m\u001b[0m\u001b[1;33m\u001b[0m\u001b[0m\n\u001b[0;32m     12\u001b[0m \u001b[1;33m\u001b[0m\u001b[0m\n\u001b[1;32m---> 13\u001b[1;33m \u001b[0mcar1\u001b[0m\u001b[1;33m=\u001b[0m\u001b[0mCar\u001b[0m\u001b[1;33m(\u001b[0m\u001b[1;34m'gtr'\u001b[0m\u001b[1;33m,\u001b[0m\u001b[1;34m'ere'\u001b[0m\u001b[1;33m,\u001b[0m\u001b[1;34m'White'\u001b[0m\u001b[1;33m,\u001b[0m\u001b[1;36m2021\u001b[0m\u001b[1;33m,\u001b[0m\u001b[1;36m700\u001b[0m\u001b[1;33m)\u001b[0m\u001b[1;33m\u001b[0m\u001b[1;33m\u001b[0m\u001b[0m\n\u001b[0m\u001b[0;32m     14\u001b[0m \u001b[0mprint\u001b[0m\u001b[1;33m(\u001b[0m\u001b[0mcar1\u001b[0m\u001b[1;33m.\u001b[0m\u001b[0mname\u001b[0m\u001b[1;33m)\u001b[0m\u001b[1;33m\u001b[0m\u001b[1;33m\u001b[0m\u001b[0m\n\u001b[0;32m     15\u001b[0m \u001b[0mprint\u001b[0m\u001b[1;33m(\u001b[0m\u001b[0mcar1\u001b[0m\u001b[1;33m.\u001b[0m\u001b[0mmodel\u001b[0m\u001b[1;33m)\u001b[0m\u001b[1;33m\u001b[0m\u001b[1;33m\u001b[0m\u001b[0m\n",
      "\u001b[1;31mTypeError\u001b[0m: Car() takes no arguments"
     ]
    }
   ],
   "source": [
    "class Car():\n",
    "    def _init(car,name,model,colour,year,hp):\n",
    "        car.name =name\n",
    "        car.model =model\n",
    "        car.colour =colour\n",
    "        car.year =year\n",
    "        car.hp=hp\n",
    "        car.compName = 'Suzuki'\n",
    "        \n",
    "    def updatecompanyName(car,newName):\n",
    "        car.compName = newName\n",
    "\n",
    "car1=Car('gtr','ere','White',2021,700)\n",
    "print(car1.name)\n",
    "print(car1.model)\n",
    "print(car1.colour)\n",
    "print(car1.year)\n",
    "print(car1.hp)\n",
    "Car1.updateComp('corolla')\n",
    "print(Car1.compName,'Modified Name')\n",
    "print('/n')\n",
    "\n",
    "car2=Car('gen','meera','red',2017,700)\n",
    "print(car2.name)\n",
    "print(car2.model)\n",
    "print(car2.colour)\n",
    "print(car2.year)\n",
    "print(car2.hp)\n",
    "\n",
    "print('/n')\n",
    "print(Car1)\n",
    "print(Car1)\n"
   ]
  },
  {
   "cell_type": "code",
   "execution_count": null,
   "metadata": {},
   "outputs": [],
   "source": []
  }
 ],
 "metadata": {
  "kernelspec": {
   "display_name": "Python 3",
   "language": "python",
   "name": "python3"
  },
  "language_info": {
   "codemirror_mode": {
    "name": "ipython",
    "version": 3
   },
   "file_extension": ".py",
   "mimetype": "text/x-python",
   "name": "python",
   "nbconvert_exporter": "python",
   "pygments_lexer": "ipython3",
   "version": "3.7.4"
  }
 },
 "nbformat": 4,
 "nbformat_minor": 2
}
