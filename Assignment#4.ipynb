{
 "cells": [
  {
   "cell_type": "code",
   "execution_count": 27,
   "metadata": {},
   "outputs": [
    {
     "name": "stdout",
     "output_type": "stream",
     "text": [
      "firstname:yumna\n",
      "lastname:noor\n",
      "age:19\n",
      "city:karachi\n",
      "\n",
      " add qualification\n",
      "\n",
      "firstname:yumna\n",
      "lastname:noor\n",
      "age:19\n",
      "city:karachi\n",
      "qualification:graduation\n",
      "\n",
      " update qualification\n",
      "\n",
      "firstname:yumna\n",
      "lastname:noor\n",
      "age:19\n",
      "city:karachi\n",
      "qualification:high academiclevel\n",
      "\n",
      " delete qualification \n",
      "\n",
      "{'firstname': 'yumna', 'lastname': 'noor', 'age': '19', 'city': 'karachi'}\n"
     ]
    }
   ],
   "source": [
    "#Question1:\n",
    "\"\"\"\"\"\n",
    "Use a dictionary to store information about a person you know. Store their first name, last name, age, and the city in which they live. You should have keys such as first_name, last_name, age, and city. Print each piece of information stored in your dictionary. Add a new key value pair about qualification then update the qualification value to high academic level then delete it.\n",
    "\"\"\"\"\"\n",
    "person_dic={\"firstname\":\"yumna\",\"lastname\":\"noor\",\"age\":\"19\",\"city\":\"karachi\"}\n",
    "for key, value in person_dic.items():\n",
    "    print(key+\":\"+value)\n",
    "print(\"\\n add qualification\\n\")\n",
    "person_dic[\"qualification\"]=\"graduation\"\n",
    "for key, value in person_dic.items():\n",
    "    print(key+\":\"+value)\n",
    "print(\"\\n update qualification\\n\")\n",
    "person_dic[\"qualification\"]=\"high academiclevel\"\n",
    "for key, value in person_dic.items():\n",
    "    print(key+\":\"+value)\n",
    "print(\"\\n delete qualification \\n\")\n",
    "del person_dic[\"qualification\"]\n",
    "print(person_dic)\n",
    "\n",
    "    \n",
    "\n",
    "        \n"
   ]
  },
  {
   "cell_type": "code",
   "execution_count": 31,
   "metadata": {},
   "outputs": [
    {
     "name": "stdout",
     "output_type": "stream",
     "text": [
      "\n",
      "Karachi is in Pakistan.\n",
      "  It has a population of about 15741000.\n",
      "  The fact about it isThe Most Populous City In Pakistan\n",
      "\n",
      "Lahore is in Pakistan.\n",
      "  It has a population of about 1218800.\n",
      "  The fact about it isThe Cultural Centre Of Pakistan\n",
      "\n",
      "Islamabad is in Pkistana.\n",
      "  It has a population of about 1095064.\n",
      "  The fact about it isThe Capital Of Pakistan\n"
     ]
    }
   ],
   "source": [
    "#question 2\n",
    "\"\"\"\"\"\n",
    "Make a dictionary called cities. Use the names of three cities as keys in your dictionary. Create a dictionary of information about each city and include the country that the city is in, its approximate population, and one fact about that city. The keys for each city’s dictionary should be something like country, population, and fact. Print the name of each city and all of the information you have stored about it.\n",
    "\n",
    "\"\"\"\"\"\n",
    "cities = {\n",
    "    'karachi': {\n",
    "        'country': 'Pakistan',\n",
    "        'population': 15741000,\n",
    "        'fact': 'the most populous city in pakistan',\n",
    "        },\n",
    "    'lahore': {\n",
    "        'country': 'Pakistan',\n",
    "        'population': 1218800,\n",
    "        'fact':'the cultural centre of pakistan',\n",
    "        },\n",
    "    'islamabad': {\n",
    "        'country': 'Pkistana',\n",
    "        'population': 1095064,\n",
    "        'fact': 'the capital of pakistan',\n",
    "        }\n",
    "    }\n",
    "\n",
    "for city, city_info in cities.items():\n",
    "    country = city_info['country'].title()\n",
    "    population = city_info['population']\n",
    "    fact = city_info['fact'].title()\n",
    "\n",
    "    print(\"\\n\" + city.title() + \" is in \" + country + \".\")\n",
    "    print(\"  It has a population of about \" + str(population) + \".\")\n",
    "    print(\"  The fact about it\"  + \" is\"+ fact)"
   ]
  },
  {
   "cell_type": "code",
   "execution_count": 33,
   "metadata": {},
   "outputs": [
    {
     "name": "stdout",
     "output_type": "stream",
     "text": [
      "How old are you?\n",
      "Enter 'quit' when you are finished. 12\n",
      "  Your ticket is $10.\n",
      "How old are you?\n",
      "Enter 'quit' when you are finished. 18\n",
      "  Your ticket is $15.\n",
      "How old are you?\n",
      "Enter 'quit' when you are finished. 2\n",
      "  You get in free!\n",
      "How old are you?\n",
      "Enter 'quit' when you are finished. quit\n"
     ]
    }
   ],
   "source": [
    "#Question3:\n",
    "'''''\n",
    "A movie theater charges different ticket prices depending on a person’s age. If a person is under the age of 3, the ticket is free; if they are between 3 and 12, the ticket is $10; and if they are over age 12, the ticket is $15. Write a loop in which you ask users their age, and then tell them the cost of their movie ticket.\n",
    "'''''\n",
    "flag = \"How old are you?\"\n",
    "flag += \"\\nEnter 'quit' when you are finished. \"\n",
    "\n",
    "while True:\n",
    "    age = input(prompt)\n",
    "    if age == 'quit':\n",
    "        break\n",
    "    age = int(age)\n",
    "\n",
    "    if age < 3:\n",
    "        print(\"  You get in free!\")\n",
    "    elif age < 13:\n",
    "        print(\"  Your ticket is $10.\")\n",
    "    else:\n",
    "        print(\"  Your ticket is $15.\")\n"
   ]
  },
  {
   "cell_type": "code",
   "execution_count": 34,
   "metadata": {},
   "outputs": [
    {
     "name": "stdout",
     "output_type": "stream",
     "text": [
      "Alchemist is one of my favorite books.\n"
     ]
    }
   ],
   "source": [
    "#Question4:\n",
    "\"\"\"\"\"\n",
    "Write a function called favorite_book() that accepts one parameter, title. The function should print a message, such as One of my favorite books is Alice in Wonderland. Call the function, making sure to include a book title as an argument in the function call.\n",
    "\"\"\"\"\"\n",
    "def favorite_book(title):\n",
    "    \n",
    "    print(title + \" is one of my favorite books.\")\n",
    "\n",
    "favorite_book('Alchemist')\n"
   ]
  },
  {
   "cell_type": "code",
   "execution_count": null,
   "metadata": {},
   "outputs": [],
   "source": [
    " import random\n",
    "guessesTaken = 0\n",
    "print('Hello! What is your name?')\n",
    "myName = input()\n",
    "number = random.randint(1, 30)\n",
    "print('Well, ' + myName + ', I am thinking of a number between 1 and 30.')\n",
    "while guessesTaken < 3:\n",
    "        print('Take a guess.') \n",
    "        guess = input()\n",
    "        guess=int(guess)\n",
    "        guessesTaken=guessesTaken+1\n",
    "        if guess < number:\n",
    "            print('Your guess is low.')\n",
    "        if guess > number:\n",
    "            print('Your guess is high.')\n",
    "        if guess == number:\n",
    "            break\n",
    "if guess == number:\n",
    "    guessesTaken = str(guessesTaken)\n",
    "    print('Good job, ' + myName + '! You guessed my number in ' + guessesTaken + ' guesses!')\n",
    "if guess != number:\n",
    "    number = str(number)\n",
    "    print('Nope. The number I was thinking of was ' + number)\n",
    "\n"
   ]
  },
  {
   "cell_type": "code",
   "execution_count": null,
   "metadata": {},
   "outputs": [],
   "source": [
    "#Question5:\n",
    "\"\"\"\"\"\n",
    "Guess the number game\n",
    "Write a program which randomly generate a number between 1 to 30 and ask the user in input field to guess the correct number. Give three chances to user guess the number and also give hint to user if hidden number is greater or smaller than the number he given to input field.\n",
    "\"\"\"\n",
    "import random\n",
    "guessesTaken = 0\n",
    "print('Hello! What is your name?')\n",
    "myName = input()\n",
    "print('Well, ' + myName + ', I am thinking of a number between 1 and 30.')\n",
    "while guessesTaken < 3:\n",
    "        guess =int(input(\"take a guess\")\n",
    "        guessesTaken+=1\n",
    "        number = random.randint(1, 30)\n",
    "        if guess == number:\n",
    "            guessesTaken = str(guessesTaken)\n",
    "             print('Good job, ' + myName + '! You guessed my number in ' + guessesTaken + ' guesses!')\n",
    "        elif guess < number:\n",
    "            print('Your guess is low.')\n",
    "        elif guess > number:\n",
    "            print('Your guess is high.')\n",
    "        elif guess != number:\n",
    "            number = str(number)\n",
    "            print('Nope. The number I was thinking of was ' + number)\n",
    "\n"
   ]
  },
  {
   "cell_type": "code",
   "execution_count": null,
   "metadata": {},
   "outputs": [],
   "source": []
  },
  {
   "cell_type": "code",
   "execution_count": null,
   "metadata": {},
   "outputs": [],
   "source": []
  }
 ],
 "metadata": {
  "kernelspec": {
   "display_name": "Python 3",
   "language": "python",
   "name": "python3"
  },
  "language_info": {
   "codemirror_mode": {
    "name": "ipython",
    "version": 3
   },
   "file_extension": ".py",
   "mimetype": "text/x-python",
   "name": "python",
   "nbconvert_exporter": "python",
   "pygments_lexer": "ipython3",
   "version": "3.7.4"
  }
 },
 "nbformat": 4,
 "nbformat_minor": 2
}
