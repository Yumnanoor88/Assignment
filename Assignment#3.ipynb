{
 "cells": [
  {
   "cell_type": "code",
   "execution_count": 2,
   "metadata": {},
   "outputs": [
    {
     "name": "stdout",
     "output_type": "stream",
     "text": [
      "enter number first to print5\n",
      "enter number second to print5\n",
      "Enter operatorp\n",
      "3125\n"
     ]
    }
   ],
   "source": [
    "a=int(input(\"enter number first to print\"))\n",
    "b=int(input(\"enter number second to print\"))\n",
    "operator=input(\"Enter operator\")\n",
    "if operator==\"*\":\n",
    "    print(a*b)\n",
    "elif operator==\"/\":\n",
    "    print(a/b)\n",
    "elif operator==\"+\":\n",
    "    print(a+b)\n",
    "elif operator==\"-\":\n",
    "    print(a-b)\n",
    "elif operator==\"p\":\n",
    "    \n",
    "    print(a**b)\n"
   ]
  },
  {
   "cell_type": "code",
   "execution_count": 11,
   "metadata": {},
   "outputs": [
    {
     "name": "stdout",
     "output_type": "stream",
     "text": [
      "there is no numeric value\n",
      "there is no numeric value\n",
      "numeric value in list is = 23 At Index=2\n",
      "numeric value in list is = 34 At Index=3\n",
      "numeric value in list is = 55 At Index=4\n"
     ]
    }
   ],
   "source": [
    "arr=[\"asif\",\"taha\",23,34,55]\n",
    "for n in arr:\n",
    "    if type(n)==int or type(n)== float:\n",
    "        print(f\"numeric value in list is = {n} At Index={arr.index(n)}\")\n",
    "    else:\n",
    "        print(\"there is no numeric value\")"
   ]
  },
  {
   "cell_type": "code",
   "execution_count": 17,
   "metadata": {},
   "outputs": [
    {
     "name": "stdout",
     "output_type": "stream",
     "text": [
      "{'firstName': 'yumna', 'lastName': 'noor'}\n",
      "{'firstName': 'yumna', 'lastName': 'noor', 'middleName': 'kausar'}\n"
     ]
    }
   ],
   "source": [
    "dtio={\"firstName\":\"yumna\",\"lastName\":\"noor\"}\n",
    "print(dtio)\n",
    "dtio.update({\"middleName\":\"kausar\"})\n",
    "print(dtio)"
   ]
  },
  {
   "cell_type": "code",
   "execution_count": 58,
   "metadata": {},
   "outputs": [
    {
     "name": "stdout",
     "output_type": "stream",
     "text": [
      "Sum : 600\n"
     ]
    }
   ],
   "source": [
    "def Sum(myDict): \n",
    "      \n",
    "    sum = 0\n",
    "    for i in myDict: \n",
    "        sum = sum + myDict[i] \n",
    "      \n",
    "    return sum\n",
    "  \n",
    "dict = {'a': 100, 'b':200, 'c':300} \n",
    "print(\"Sum :\", Sum(dict)) \n",
    "\n"
   ]
  },
  {
   "cell_type": "code",
   "execution_count": 54,
   "metadata": {},
   "outputs": [
    {
     "name": "stdout",
     "output_type": "stream",
     "text": [
      "[20, 30, -20, 60]\n"
     ]
    }
   ],
   "source": [
    "def dup(x): \n",
    "    _size = len(x) \n",
    "    dup1 = [] \n",
    "    for i in range(_size): \n",
    "        k = i + 1\n",
    "        for j in range(k, _size): \n",
    "            if x[i] == x[j] and x[i] not in dup1: \n",
    "                dup1.append(x[i]) \n",
    "    return dup1\n",
    "   \n",
    "list1 = [10, 20, 30, 20, 20, 30, 40,  \n",
    "         50, -20, 60, 60, -20, -20] \n",
    "print (dup(list1)) \n",
    "      \n"
   ]
  },
  {
   "cell_type": "code",
   "execution_count": 57,
   "metadata": {},
   "outputs": [
    {
     "name": "stdout",
     "output_type": "stream",
     "text": [
      "Key is present in the dictionary\n",
      "Key is not present in the dictionary\n"
     ]
    }
   ],
   "source": [
    "dic = {1: 10, 2: 20, 3: 30, 4: 40, 5: 50, 6: 60}\n",
    "def is_key_present(x):\n",
    "  if x in dic:\n",
    "      print('Key is present in the dictionary')\n",
    "  else:\n",
    "      print('Key is not present in the dictionary')\n",
    "is_key_present(2)\n",
    "is_key_present(34)\n"
   ]
  },
  {
   "cell_type": "code",
   "execution_count": null,
   "metadata": {},
   "outputs": [],
   "source": []
  }
 ],
 "metadata": {
  "kernelspec": {
   "display_name": "Python 3",
   "language": "python",
   "name": "python3"
  },
  "language_info": {
   "codemirror_mode": {
    "name": "ipython",
    "version": 3
   },
   "file_extension": ".py",
   "mimetype": "text/x-python",
   "name": "python",
   "nbconvert_exporter": "python",
   "pygments_lexer": "ipython3",
   "version": "3.7.4"
  }
 },
 "nbformat": 4,
 "nbformat_minor": 2
}
